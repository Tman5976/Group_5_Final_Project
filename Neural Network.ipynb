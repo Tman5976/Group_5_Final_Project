{
 "cells": [
  {
   "cell_type": "code",
   "execution_count": 1,
   "id": "0900d91b",
   "metadata": {},
   "outputs": [],
   "source": [
    "# Import Dependencies\n",
    "import numpy as np\n",
    "import pandas as pd\n",
    "from pathlib import Path\n",
    "from collections import Counter\n",
    "from sklearn.linear_model import LinearRegression\n",
    "from sklearn.model_selection import train_test_split\n",
    "import matplotlib.pyplot as plt"
   ]
  },
  {
   "cell_type": "code",
   "execution_count": 2,
   "id": "391bb4a8",
   "metadata": {},
   "outputs": [
    {
     "data": {
      "text/html": [
       "<div>\n",
       "<style scoped>\n",
       "    .dataframe tbody tr th:only-of-type {\n",
       "        vertical-align: middle;\n",
       "    }\n",
       "\n",
       "    .dataframe tbody tr th {\n",
       "        vertical-align: top;\n",
       "    }\n",
       "\n",
       "    .dataframe thead th {\n",
       "        text-align: right;\n",
       "    }\n",
       "</style>\n",
       "<table border=\"1\" class=\"dataframe\">\n",
       "  <thead>\n",
       "    <tr style=\"text-align: right;\">\n",
       "      <th></th>\n",
       "      <th>review_overall</th>\n",
       "      <th>review_aroma</th>\n",
       "      <th>review_appearance</th>\n",
       "      <th>review_palate</th>\n",
       "      <th>review_taste</th>\n",
       "      <th>beer_style</th>\n",
       "      <th>beer_abv</th>\n",
       "    </tr>\n",
       "  </thead>\n",
       "  <tbody>\n",
       "    <tr>\n",
       "      <th>0</th>\n",
       "      <td>4.0</td>\n",
       "      <td>4.0</td>\n",
       "      <td>3.5</td>\n",
       "      <td>4.0</td>\n",
       "      <td>4.0</td>\n",
       "      <td>Rauchbier</td>\n",
       "      <td>7.4</td>\n",
       "    </tr>\n",
       "    <tr>\n",
       "      <th>1</th>\n",
       "      <td>3.5</td>\n",
       "      <td>3.5</td>\n",
       "      <td>3.5</td>\n",
       "      <td>3.5</td>\n",
       "      <td>3.5</td>\n",
       "      <td>American IPA</td>\n",
       "      <td>6.1</td>\n",
       "    </tr>\n",
       "    <tr>\n",
       "      <th>2</th>\n",
       "      <td>1.0</td>\n",
       "      <td>3.0</td>\n",
       "      <td>3.0</td>\n",
       "      <td>1.5</td>\n",
       "      <td>1.5</td>\n",
       "      <td>Euro Pale Lager</td>\n",
       "      <td>5.0</td>\n",
       "    </tr>\n",
       "    <tr>\n",
       "      <th>3</th>\n",
       "      <td>2.5</td>\n",
       "      <td>3.0</td>\n",
       "      <td>4.0</td>\n",
       "      <td>4.0</td>\n",
       "      <td>3.5</td>\n",
       "      <td>Witbier</td>\n",
       "      <td>4.8</td>\n",
       "    </tr>\n",
       "    <tr>\n",
       "      <th>4</th>\n",
       "      <td>3.5</td>\n",
       "      <td>4.0</td>\n",
       "      <td>4.0</td>\n",
       "      <td>3.5</td>\n",
       "      <td>3.5</td>\n",
       "      <td>American Porter</td>\n",
       "      <td>6.0</td>\n",
       "    </tr>\n",
       "  </tbody>\n",
       "</table>\n",
       "</div>"
      ],
      "text/plain": [
       "   review_overall  review_aroma  review_appearance  review_palate  \\\n",
       "0             4.0           4.0                3.5            4.0   \n",
       "1             3.5           3.5                3.5            3.5   \n",
       "2             1.0           3.0                3.0            1.5   \n",
       "3             2.5           3.0                4.0            4.0   \n",
       "4             3.5           4.0                4.0            3.5   \n",
       "\n",
       "   review_taste       beer_style  beer_abv  \n",
       "0           4.0        Rauchbier       7.4  \n",
       "1           3.5     American IPA       6.1  \n",
       "2           1.5  Euro Pale Lager       5.0  \n",
       "3           3.5          Witbier       4.8  \n",
       "4           3.5  American Porter       6.0  "
      ]
     },
     "execution_count": 2,
     "metadata": {},
     "output_type": "execute_result"
    }
   ],
   "source": [
    "# Load the data from database\n",
    "file_path = './Resources/clean_beer.csv'\n",
    "beer_df = pd.read_csv(file_path)\n",
    "beer_df.head()"
   ]
  },
  {
   "cell_type": "code",
   "execution_count": 3,
   "id": "59d6890c",
   "metadata": {},
   "outputs": [
    {
     "data": {
      "text/plain": [
       "American IPA                      382\n",
       "American Pale Ale (APA)           236\n",
       "American Double / Imperial IPA    234\n",
       "American Porter                   185\n",
       "Saison / Farmhouse Ale            181\n",
       "                                 ... \n",
       "American Malt Liquor                3\n",
       "Gose                                2\n",
       "Japanese Rice Lager                 2\n",
       "Kvass                               2\n",
       "Faro                                1\n",
       "Name: beer_style, Length: 103, dtype: int64"
      ]
     },
     "execution_count": 3,
     "metadata": {},
     "output_type": "execute_result"
    }
   ],
   "source": [
    "beer_style_count = beer_df.beer_style.value_counts()\n",
    "beer_style_count"
   ]
  },
  {
   "cell_type": "code",
   "execution_count": 5,
   "id": "aa6dc114",
   "metadata": {},
   "outputs": [
    {
     "data": {
      "text/plain": [
       "<AxesSubplot:ylabel='Density'>"
      ]
     },
     "execution_count": 5,
     "metadata": {},
     "output_type": "execute_result"
    },
    {
     "data": {
      "image/png": "[encoded data removed]",
      "text/plain": [
       "<Figure size 432x288 with 1 Axes>"
      ]
     },
     "metadata": {
      "needs_background": "light"
     },
     "output_type": "display_data"
    }
   ],
   "source": [
    "beer_style_count.plot.density()"
   ]
  },
  {
   "cell_type": "code",
   "execution_count": 8,
   "id": "ce8106c0",
   "metadata": {},
   "outputs": [
    {
     "data": {
      "text/plain": [
       "Other                                  1319\n",
       "American IPA                            382\n",
       "American Pale Ale (APA)                 236\n",
       "American Double / Imperial IPA          234\n",
       "American Porter                         185\n",
       "Saison / Farmhouse Ale                  181\n",
       "American Amber / Red Ale                179\n",
       "Belgian Strong Dark Ale                 152\n",
       "Russian Imperial Stout                  144\n",
       "Belgian Strong Pale Ale                 134\n",
       "American Double / Imperial Stout        134\n",
       "Tripel                                  128\n",
       "Fruit / Vegetable Beer                  127\n",
       "Hefeweizen                              112\n",
       "American Barleywine                     109\n",
       "American Stout                          106\n",
       "Witbier                                  98\n",
       "Extra Special / Strong Bitter (ESB)      94\n",
       "Belgian Pale Ale                         92\n",
       "English Pale Ale                         90\n",
       "American Strong Ale                      90\n",
       "American Brown Ale                       82\n",
       "English Brown Ale                        80\n",
       "English India Pale Ale (IPA)             79\n",
       "Oatmeal Stout                            78\n",
       "Scotch Ale / Wee Heavy                   76\n",
       "Doppelbock                               74\n",
       "Dubbel                                   71\n",
       "German Pilsener                          71\n",
       "American Pale Wheat Ale                  67\n",
       "American Adjunct Lager                   67\n",
       "Scottish Ale                             66\n",
       "English Barleywine                       63\n",
       "Winter Warmer                            63\n",
       "English Bitter                           60\n",
       "Czech Pilsener                           59\n",
       "Herbed / Spiced Beer                     58\n",
       "English Porter                           57\n",
       "Märzen / Oktoberfest                     57\n",
       "American Blonde Ale                      55\n",
       "Belgian IPA                              54\n",
       "American Pale Lager                      52\n",
       "Baltic Porter                            52\n",
       "Euro Pale Lager                          50\n",
       "Name: beer_style, dtype: int64"
      ]
     },
     "execution_count": 8,
     "metadata": {},
     "output_type": "execute_result"
    }
   ],
   "source": [
    "replace_beer = list(beer_style_count[beer_style_count < 50].index)\n",
    "for beer in replace_beer:\n",
    "    beer_df.beer_style = beer_df.beer_style.replace(beer,\"Other\")\n",
    "    \n",
    "# Check to make sure binning was successful\n",
    "beer_df.beer_style.value_counts()"
   ]
  },
  {
   "cell_type": "code",
   "execution_count": 9,
   "id": "eb62f410",
   "metadata": {},
   "outputs": [],
   "source": [
    "import tensorflow as tf\n",
    "from sklearn.preprocessing import StandardScaler, OneHotEncoder"
   ]
  },
  {
   "cell_type": "code",
   "execution_count": 13,
   "id": "562c723d",
   "metadata": {},
   "outputs": [
    {
     "data": {
      "text/plain": [
       "['beer_style']"
      ]
     },
     "execution_count": 13,
     "metadata": {},
     "output_type": "execute_result"
    }
   ],
   "source": [
    "beer_cat = beer_df.dtypes[beer_df.dtypes == \"object\"].index.tolist()\n",
    "beer_cat"
   ]
  },
  {
   "cell_type": "code",
   "execution_count": null,
   "id": "961b7660",
   "metadata": {},
   "outputs": [],
   "source": []
  },
  {
   "cell_type": "code",
   "execution_count": null,
   "id": "f6c2cadd",
   "metadata": {},
   "outputs": [],
   "source": []
  }
 ],
 "metadata": {
  "kernelspec": {
   "display_name": "Python 3",
   "language": "python",
   "name": "python3"
  },
  "language_info": {
   "codemirror_mode": {
    "name": "ipython",
    "version": 3
   },
   "file_extension": ".py",
   "mimetype": "text/x-python",
   "name": "python",
   "nbconvert_exporter": "python",
   "pygments_lexer": "ipython3",
   "version": "3.7.10"
  }
 },
 "nbformat": 4,
 "nbformat_minor": 5
}
