{
 "cells": [
  {
   "cell_type": "code",
   "execution_count": 1,
   "id": "e45f6a69",
   "metadata": {},
   "outputs": [],
   "source": [
    "# Import Dependencies"
   ]
  },
  {
   "cell_type": "code",
   "execution_count": null,
   "id": "1802efc7",
   "metadata": {},
   "outputs": [],
   "source": [
    "# Load the data from database"
   ]
  },
  {
   "cell_type": "code",
   "execution_count": null,
   "id": "f0edd908",
   "metadata": {},
   "outputs": [],
   "source": [
    "# Create features\n",
    "# Create target\n"
   ]
  },
  {
   "cell_type": "code",
   "execution_count": null,
   "id": "cedf64d1",
   "metadata": {},
   "outputs": [],
   "source": [
    "# Split the Data into Training and Testing\n"
   ]
  },
  {
   "cell_type": "code",
   "execution_count": null,
   "id": "3b2fcbad",
   "metadata": {},
   "outputs": [],
   "source": [
    "# Train the model\n",
    "# Multiple linear regression\n",
    "# Pros - Multiple linear regression can find the effect different varibles have on the outcome & finding outliers\n",
    "# Cons - Struggles to find non-linear patterns"
   ]
  },
  {
   "cell_type": "code",
   "execution_count": null,
   "id": "a35f0d14",
   "metadata": {},
   "outputs": [],
   "source": [
    "# Evaluate the model"
   ]
  }
 ],
 "metadata": {
  "kernelspec": {
   "display_name": "Python 3",
   "language": "python",
   "name": "python3"
  },
  "language_info": {
   "codemirror_mode": {
    "name": "ipython",
    "version": 3
   },
   "file_extension": ".py",
   "mimetype": "text/x-python",
   "name": "python",
   "nbconvert_exporter": "python",
   "pygments_lexer": "ipython3",
   "version": "3.7.10"
  }
 },
 "nbformat": 4,
 "nbformat_minor": 5
}
