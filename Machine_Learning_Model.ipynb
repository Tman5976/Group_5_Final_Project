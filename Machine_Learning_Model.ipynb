{
 "cells": [
  {
   "cell_type": "code",
   "execution_count": 1,
   "id": "e45f6a69",
   "metadata": {},
   "outputs": [],
   "source": [
    "# Import Dependencies"
   ]
  },
  {
   "cell_type": "code",
   "execution_count": null,
   "id": "1802efc7",
   "metadata": {},
   "outputs": [],
   "source": [
    "# Load the data from database"
   ]
  },
  {
   "cell_type": "code",
   "execution_count": null,
   "id": "f0edd908",
   "metadata": {},
   "outputs": [],
   "source": [
    "# Create features\n",
    "X = df2.drop(['review_overall'], axis = 1).values\n",
    "# Create target\n",
    "y = df2['review_overall'].values"
   ]
  },
  {
   "cell_type": "code",
   "execution_count": null,
   "id": "cedf64d1",
   "metadata": {},
   "outputs": [],
   "source": [
    "# Split the Data into Training and Testing\n",
    "from sklearn.model_selection import train_test_split\n",
    "X_train, X_test, y_train, y_test = train_test_split(X, y, random_state = 42)"
   ]
  },
  {
   "cell_type": "code",
   "execution_count": null,
   "id": "3b2fcbad",
   "metadata": {},
   "outputs": [],
   "source": [
    "# Train the model\n",
    "# Multiple linear regression\n",
    "from sklearn.linear_model import LinearRegression\n",
    "ml=LinearRegression()\n",
    "ml.fit(X_train, y_train)\n",
    "# Pros - Multiple linear regression can find the effect different varibles have on the outcome & finding outliers\n",
    "# Cons - Struggles to find non-linear patterns"
   ]
  },
  {
   "cell_type": "code",
   "execution_count": null,
   "id": "a35f0d14",
   "metadata": {},
   "outputs": [],
   "source": [
    "# Evaluate the model"
   ]
  }
 ],
 "metadata": {
  "kernelspec": {
   "display_name": "Python 3",
   "language": "python",
   "name": "python3"
  },
  "language_info": {
   "codemirror_mode": {
    "name": "ipython",
    "version": 3
   },
   "file_extension": ".py",
   "mimetype": "text/x-python",
   "name": "python",
   "nbconvert_exporter": "python",
   "pygments_lexer": "ipython3",
   "version": "3.7.10"
  }
 },
 "nbformat": 4,
 "nbformat_minor": 5
}
