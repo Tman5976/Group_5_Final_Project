{
 "cells": [
  {
   "cell_type": "code",
   "execution_count": 23,
   "id": "e45f6a69",
   "metadata": {},
   "outputs": [],
   "source": [
    "# Import Dependencies\n",
    "import numpy as np\n",
    "import pandas as pd\n",
    "from pathlib import Path\n",
    "from collections import Counter\n",
    "from sklearn.linear_model import LinearRegression\n",
    "from sklearn.model_selection import train_test_split\n",
    "from sklearn.metrics import mean_squared_error\n",
    "import matplotlib.pyplot as plt"
   ]
  },
  {
   "cell_type": "code",
   "execution_count": 2,
   "id": "1802efc7",
   "metadata": {},
   "outputs": [
    {
     "data": {
      "text/html": [
       "<div>\n",
       "<style scoped>\n",
       "    .dataframe tbody tr th:only-of-type {\n",
       "        vertical-align: middle;\n",
       "    }\n",
       "\n",
       "    .dataframe tbody tr th {\n",
       "        vertical-align: top;\n",
       "    }\n",
       "\n",
       "    .dataframe thead th {\n",
       "        text-align: right;\n",
       "    }\n",
       "</style>\n",
       "<table border=\"1\" class=\"dataframe\">\n",
       "  <thead>\n",
       "    <tr style=\"text-align: right;\">\n",
       "      <th></th>\n",
       "      <th>review_overall</th>\n",
       "      <th>review_aroma</th>\n",
       "      <th>review_appearance</th>\n",
       "      <th>review_palate</th>\n",
       "      <th>review_taste</th>\n",
       "      <th>beer_style</th>\n",
       "      <th>beer_abv</th>\n",
       "    </tr>\n",
       "  </thead>\n",
       "  <tbody>\n",
       "    <tr>\n",
       "      <th>0</th>\n",
       "      <td>4.0</td>\n",
       "      <td>4.0</td>\n",
       "      <td>3.5</td>\n",
       "      <td>4.0</td>\n",
       "      <td>4.0</td>\n",
       "      <td>Rauchbier</td>\n",
       "      <td>7.4</td>\n",
       "    </tr>\n",
       "    <tr>\n",
       "      <th>1</th>\n",
       "      <td>3.5</td>\n",
       "      <td>3.5</td>\n",
       "      <td>3.5</td>\n",
       "      <td>3.5</td>\n",
       "      <td>3.5</td>\n",
       "      <td>American IPA</td>\n",
       "      <td>6.1</td>\n",
       "    </tr>\n",
       "    <tr>\n",
       "      <th>2</th>\n",
       "      <td>1.0</td>\n",
       "      <td>3.0</td>\n",
       "      <td>3.0</td>\n",
       "      <td>1.5</td>\n",
       "      <td>1.5</td>\n",
       "      <td>Euro Pale Lager</td>\n",
       "      <td>5.0</td>\n",
       "    </tr>\n",
       "    <tr>\n",
       "      <th>3</th>\n",
       "      <td>2.5</td>\n",
       "      <td>3.0</td>\n",
       "      <td>4.0</td>\n",
       "      <td>4.0</td>\n",
       "      <td>3.5</td>\n",
       "      <td>Witbier</td>\n",
       "      <td>4.8</td>\n",
       "    </tr>\n",
       "    <tr>\n",
       "      <th>4</th>\n",
       "      <td>3.5</td>\n",
       "      <td>4.0</td>\n",
       "      <td>4.0</td>\n",
       "      <td>3.5</td>\n",
       "      <td>3.5</td>\n",
       "      <td>American Porter</td>\n",
       "      <td>6.0</td>\n",
       "    </tr>\n",
       "  </tbody>\n",
       "</table>\n",
       "</div>"
      ],
      "text/plain": [
       "   review_overall  review_aroma  review_appearance  review_palate  \\\n",
       "0             4.0           4.0                3.5            4.0   \n",
       "1             3.5           3.5                3.5            3.5   \n",
       "2             1.0           3.0                3.0            1.5   \n",
       "3             2.5           3.0                4.0            4.0   \n",
       "4             3.5           4.0                4.0            3.5   \n",
       "\n",
       "   review_taste       beer_style  beer_abv  \n",
       "0           4.0        Rauchbier       7.4  \n",
       "1           3.5     American IPA       6.1  \n",
       "2           1.5  Euro Pale Lager       5.0  \n",
       "3           3.5          Witbier       4.8  \n",
       "4           3.5  American Porter       6.0  "
      ]
     },
     "execution_count": 2,
     "metadata": {},
     "output_type": "execute_result"
    }
   ],
   "source": [
    "# Load the data from database\n",
    "file_path = './Resources/clean_beer.csv'\n",
    "beer_df = pd.read_csv(file_path)\n",
    "beer_df.head()"
   ]
  },
  {
   "cell_type": "code",
   "execution_count": 3,
   "id": "f0edd908",
   "metadata": {},
   "outputs": [],
   "source": [
    "# Create features\n",
    "X = beer_df.drop(['review_overall', 'beer_style'], axis = 1).values\n",
    "# Create target\n",
    "y = beer_df['review_overall'].values"
   ]
  },
  {
   "cell_type": "code",
   "execution_count": null,
   "id": "ec1c4fa0",
   "metadata": {},
   "outputs": [],
   "source": [
    "X"
   ]
  },
  {
   "cell_type": "code",
   "execution_count": null,
   "id": "ec57caa6",
   "metadata": {},
   "outputs": [],
   "source": [
    "y"
   ]
  },
  {
   "cell_type": "code",
   "execution_count": 4,
   "id": "cedf64d1",
   "metadata": {},
   "outputs": [],
   "source": [
    "# Split the Data into Training and Testing\n",
    "X_train, X_test, y_train, y_test = train_test_split(X, y, random_state = 5)"
   ]
  },
  {
   "cell_type": "code",
   "execution_count": 18,
   "id": "3b2fcbad",
   "metadata": {},
   "outputs": [
    {
     "name": "stdout",
     "output_type": "stream",
     "text": [
      "Training score : 0.6559853239770468\n",
      "Testing score : 0.6624405757076235\n"
     ]
    }
   ],
   "source": [
    "# Train the model\n",
    "# Multiple linear regression\n",
    "ml=LinearRegression()\n",
    "ml.fit(X_train, y_train)\n",
    "Training_score = ml.score(X_train, y_train)\n",
    "Testing_score = ml.score(X_test, y_test)\n",
    "print(f'Training score : {Training_score}')\n",
    "print(f'Testing score : {Testing_score}')"
   ]
  },
  {
   "cell_type": "code",
   "execution_count": 19,
   "id": "91668313",
   "metadata": {},
   "outputs": [],
   "source": [
    "y_pred = ml.predict(X_test)"
   ]
  },
  {
   "cell_type": "code",
   "execution_count": 20,
   "id": "7a62f87a",
   "metadata": {},
   "outputs": [
    {
     "data": {
      "text/html": [
       "<div>\n",
       "<style scoped>\n",
       "    .dataframe tbody tr th:only-of-type {\n",
       "        vertical-align: middle;\n",
       "    }\n",
       "\n",
       "    .dataframe tbody tr th {\n",
       "        vertical-align: top;\n",
       "    }\n",
       "\n",
       "    .dataframe thead th {\n",
       "        text-align: right;\n",
       "    }\n",
       "</style>\n",
       "<table border=\"1\" class=\"dataframe\">\n",
       "  <thead>\n",
       "    <tr style=\"text-align: right;\">\n",
       "      <th></th>\n",
       "      <th>Predicted</th>\n",
       "      <th>Actual</th>\n",
       "    </tr>\n",
       "  </thead>\n",
       "  <tbody>\n",
       "    <tr>\n",
       "      <th>0</th>\n",
       "      <td>3.603794</td>\n",
       "      <td>3.5</td>\n",
       "    </tr>\n",
       "    <tr>\n",
       "      <th>1</th>\n",
       "      <td>3.766743</td>\n",
       "      <td>4.0</td>\n",
       "    </tr>\n",
       "    <tr>\n",
       "      <th>2</th>\n",
       "      <td>2.709960</td>\n",
       "      <td>2.5</td>\n",
       "    </tr>\n",
       "    <tr>\n",
       "      <th>3</th>\n",
       "      <td>3.611775</td>\n",
       "      <td>4.0</td>\n",
       "    </tr>\n",
       "    <tr>\n",
       "      <th>4</th>\n",
       "      <td>3.076504</td>\n",
       "      <td>3.0</td>\n",
       "    </tr>\n",
       "    <tr>\n",
       "      <th>5</th>\n",
       "      <td>3.341740</td>\n",
       "      <td>3.5</td>\n",
       "    </tr>\n",
       "    <tr>\n",
       "      <th>6</th>\n",
       "      <td>3.239877</td>\n",
       "      <td>3.0</td>\n",
       "    </tr>\n",
       "    <tr>\n",
       "      <th>7</th>\n",
       "      <td>3.146788</td>\n",
       "      <td>3.5</td>\n",
       "    </tr>\n",
       "    <tr>\n",
       "      <th>8</th>\n",
       "      <td>4.088877</td>\n",
       "      <td>4.0</td>\n",
       "    </tr>\n",
       "    <tr>\n",
       "      <th>9</th>\n",
       "      <td>3.974863</td>\n",
       "      <td>4.5</td>\n",
       "    </tr>\n",
       "    <tr>\n",
       "      <th>10</th>\n",
       "      <td>3.946103</td>\n",
       "      <td>4.0</td>\n",
       "    </tr>\n",
       "    <tr>\n",
       "      <th>11</th>\n",
       "      <td>2.809412</td>\n",
       "      <td>2.5</td>\n",
       "    </tr>\n",
       "    <tr>\n",
       "      <th>12</th>\n",
       "      <td>2.659926</td>\n",
       "      <td>2.5</td>\n",
       "    </tr>\n",
       "    <tr>\n",
       "      <th>13</th>\n",
       "      <td>3.924072</td>\n",
       "      <td>4.0</td>\n",
       "    </tr>\n",
       "    <tr>\n",
       "      <th>14</th>\n",
       "      <td>3.627368</td>\n",
       "      <td>3.0</td>\n",
       "    </tr>\n",
       "    <tr>\n",
       "      <th>15</th>\n",
       "      <td>3.228476</td>\n",
       "      <td>3.0</td>\n",
       "    </tr>\n",
       "    <tr>\n",
       "      <th>16</th>\n",
       "      <td>3.419606</td>\n",
       "      <td>4.0</td>\n",
       "    </tr>\n",
       "    <tr>\n",
       "      <th>17</th>\n",
       "      <td>3.948014</td>\n",
       "      <td>4.0</td>\n",
       "    </tr>\n",
       "    <tr>\n",
       "      <th>18</th>\n",
       "      <td>3.768655</td>\n",
       "      <td>4.0</td>\n",
       "    </tr>\n",
       "    <tr>\n",
       "      <th>19</th>\n",
       "      <td>2.918560</td>\n",
       "      <td>2.5</td>\n",
       "    </tr>\n",
       "  </tbody>\n",
       "</table>\n",
       "</div>"
      ],
      "text/plain": [
       "    Predicted  Actual\n",
       "0    3.603794     3.5\n",
       "1    3.766743     4.0\n",
       "2    2.709960     2.5\n",
       "3    3.611775     4.0\n",
       "4    3.076504     3.0\n",
       "5    3.341740     3.5\n",
       "6    3.239877     3.0\n",
       "7    3.146788     3.5\n",
       "8    4.088877     4.0\n",
       "9    3.974863     4.5\n",
       "10   3.946103     4.0\n",
       "11   2.809412     2.5\n",
       "12   2.659926     2.5\n",
       "13   3.924072     4.0\n",
       "14   3.627368     3.0\n",
       "15   3.228476     3.0\n",
       "16   3.419606     4.0\n",
       "17   3.948014     4.0\n",
       "18   3.768655     4.0\n",
       "19   2.918560     2.5"
      ]
     },
     "execution_count": 20,
     "metadata": {},
     "output_type": "execute_result"
    }
   ],
   "source": [
    "df = pd.DataFrame({'Predicted' : y_pred, 'Actual' : y_test})\n",
    "df.head(20)"
   ]
  },
  {
   "cell_type": "code",
   "execution_count": null,
   "id": "a35f0d14",
   "metadata": {},
   "outputs": [],
   "source": [
    "# Evaluate the model"
   ]
  },
  {
   "cell_type": "code",
   "execution_count": 21,
   "id": "8305082e",
   "metadata": {},
   "outputs": [
    {
     "data": {
      "image/png": "[encoded data removed]",
      "text/plain": [
       "<Figure size 432x288 with 1 Axes>"
      ]
     },
     "metadata": {
      "needs_background": "light"
     },
     "output_type": "display_data"
    }
   ],
   "source": [
    "plt.scatter(y_pred, y_pred - y_test)\n",
    "plt.hlines(y=0, xmin=y_pred.min(), xmax=y_pred.max())\n",
    "plt.show()"
   ]
  },
  {
   "cell_type": "code",
   "execution_count": null,
   "id": "7ec6490c",
   "metadata": {},
   "outputs": [],
   "source": [
    "beer_df.head(20)"
   ]
  },
  {
   "cell_type": "code",
   "execution_count": 22,
   "id": "298716d1",
   "metadata": {},
   "outputs": [
    {
     "name": "stdout",
     "output_type": "stream",
     "text": [
      "[ 0.06458525  0.05631196  0.34186063  0.65338935 -0.01140138]\n"
     ]
    }
   ],
   "source": [
    "print(ml.coef_)"
   ]
  },
  {
   "cell_type": "code",
   "execution_count": 25,
   "id": "c4784ea7",
   "metadata": {},
   "outputs": [
    {
     "data": {
      "text/plain": [
       "0.12541637788706683"
      ]
     },
     "execution_count": 25,
     "metadata": {},
     "output_type": "execute_result"
    }
   ],
   "source": [
    "mean_squared_error(y_pred, y_test)"
   ]
  },
  {
   "cell_type": "code",
   "execution_count": 26,
   "id": "905fb97f",
   "metadata": {},
   "outputs": [
    {
     "data": {
      "text/html": [
       "<div>\n",
       "<style scoped>\n",
       "    .dataframe tbody tr th:only-of-type {\n",
       "        vertical-align: middle;\n",
       "    }\n",
       "\n",
       "    .dataframe tbody tr th {\n",
       "        vertical-align: top;\n",
       "    }\n",
       "\n",
       "    .dataframe thead th {\n",
       "        text-align: right;\n",
       "    }\n",
       "</style>\n",
       "<table border=\"1\" class=\"dataframe\">\n",
       "  <thead>\n",
       "    <tr style=\"text-align: right;\">\n",
       "      <th></th>\n",
       "      <th>review_overall</th>\n",
       "      <th>review_palate</th>\n",
       "      <th>review_taste</th>\n",
       "    </tr>\n",
       "  </thead>\n",
       "  <tbody>\n",
       "    <tr>\n",
       "      <th>0</th>\n",
       "      <td>4.0</td>\n",
       "      <td>4.0</td>\n",
       "      <td>4.0</td>\n",
       "    </tr>\n",
       "    <tr>\n",
       "      <th>1</th>\n",
       "      <td>3.5</td>\n",
       "      <td>3.5</td>\n",
       "      <td>3.5</td>\n",
       "    </tr>\n",
       "    <tr>\n",
       "      <th>2</th>\n",
       "      <td>1.0</td>\n",
       "      <td>1.5</td>\n",
       "      <td>1.5</td>\n",
       "    </tr>\n",
       "    <tr>\n",
       "      <th>3</th>\n",
       "      <td>2.5</td>\n",
       "      <td>4.0</td>\n",
       "      <td>3.5</td>\n",
       "    </tr>\n",
       "    <tr>\n",
       "      <th>4</th>\n",
       "      <td>3.5</td>\n",
       "      <td>3.5</td>\n",
       "      <td>3.5</td>\n",
       "    </tr>\n",
       "  </tbody>\n",
       "</table>\n",
       "</div>"
      ],
      "text/plain": [
       "   review_overall  review_palate  review_taste\n",
       "0             4.0            4.0           4.0\n",
       "1             3.5            3.5           3.5\n",
       "2             1.0            1.5           1.5\n",
       "3             2.5            4.0           3.5\n",
       "4             3.5            3.5           3.5"
      ]
     },
     "execution_count": 26,
     "metadata": {},
     "output_type": "execute_result"
    }
   ],
   "source": [
    "beer_df2 = beer_df[['review_overall', 'review_palate', 'review_taste']]\n",
    "beer_df2.head()"
   ]
  },
  {
   "cell_type": "code",
   "execution_count": 27,
   "id": "da269e24",
   "metadata": {},
   "outputs": [],
   "source": [
    "# Create features\n",
    "X = beer_df2.drop(['review_overall'], axis = 1).values\n",
    "# Create target\n",
    "y = beer_df2['review_overall'].values"
   ]
  },
  {
   "cell_type": "code",
   "execution_count": 28,
   "id": "b7930988",
   "metadata": {},
   "outputs": [],
   "source": [
    "X_train, X_test, y_train, y_test = train_test_split(X, y, random_state = 5)"
   ]
  },
  {
   "cell_type": "code",
   "execution_count": 29,
   "id": "1d3e7bf0",
   "metadata": {},
   "outputs": [
    {
     "name": "stdout",
     "output_type": "stream",
     "text": [
      "Training score : 0.6512065521608066\n",
      "Testing score : 0.6564514924807601\n"
     ]
    }
   ],
   "source": [
    "# Train the model\n",
    "# Multiple linear regression\n",
    "ml2=LinearRegression()\n",
    "ml2.fit(X_train, y_train)\n",
    "Training_score = ml2.score(X_train, y_train)\n",
    "Testing_score = ml2.score(X_test, y_test)\n",
    "print(f'Training score : {Training_score}')\n",
    "print(f'Testing score : {Testing_score}')"
   ]
  },
  {
   "cell_type": "code",
   "execution_count": 30,
   "id": "3c267406",
   "metadata": {},
   "outputs": [],
   "source": [
    "y_pred = ml2.predict(X_test)"
   ]
  },
  {
   "cell_type": "code",
   "execution_count": 31,
   "id": "e4f82f52",
   "metadata": {},
   "outputs": [
    {
     "data": {
      "image/png": "[encoded data removed]",
      "text/plain": [
       "<Figure size 432x288 with 1 Axes>"
      ]
     },
     "metadata": {
      "needs_background": "light"
     },
     "output_type": "display_data"
    }
   ],
   "source": [
    "plt.scatter(y_pred, y_pred - y_test)\n",
    "plt.hlines(y=0, xmin=y_pred.min(), xmax=y_pred.max())\n",
    "plt.show()"
   ]
  },
  {
   "cell_type": "code",
   "execution_count": 32,
   "id": "c91faff1",
   "metadata": {},
   "outputs": [
    {
     "name": "stdout",
     "output_type": "stream",
     "text": [
      "[0.3557091  0.69046028]\n"
     ]
    }
   ],
   "source": [
    "print(ml2.coef_)"
   ]
  },
  {
   "cell_type": "code",
   "execution_count": 33,
   "id": "f53ccd11",
   "metadata": {},
   "outputs": [
    {
     "data": {
      "text/plain": [
       "0.12764155387423404"
      ]
     },
     "execution_count": 33,
     "metadata": {},
     "output_type": "execute_result"
    }
   ],
   "source": [
    "mean_squared_error(y_pred, y_test)"
   ]
  },
  {
   "cell_type": "code",
   "execution_count": 5,
   "id": "0b455095",
   "metadata": {},
   "outputs": [],
   "source": [
    "import tensorflow as tf\n",
    "from sklearn.preprocessing import StandardScaler"
   ]
  },
  {
   "cell_type": "code",
   "execution_count": 6,
   "id": "cc70160a",
   "metadata": {},
   "outputs": [],
   "source": [
    "# Create a StandardScaler instances\n",
    "scaler = StandardScaler()\n",
    "\n",
    "# Fit the StandardScaler\n",
    "X_scaler = scaler.fit(X_train)\n",
    "\n",
    "# Scale the data\n",
    "X_train_scaled = X_scaler.transform(X_train)\n",
    "X_test_scaled = X_scaler.transform(X_test)"
   ]
  },
  {
   "cell_type": "code",
   "execution_count": 15,
   "id": "ea165771",
   "metadata": {},
   "outputs": [
    {
     "name": "stdout",
     "output_type": "stream",
     "text": [
      "Model: \"sequential_2\"\n",
      "_________________________________________________________________\n",
      "Layer (type)                 Output Shape              Param #   \n",
      "=================================================================\n",
      "dense_6 (Dense)              (None, 20)                120       \n",
      "_________________________________________________________________\n",
      "dense_7 (Dense)              (None, 20)                420       \n",
      "_________________________________________________________________\n",
      "dense_8 (Dense)              (None, 1)                 21        \n",
      "=================================================================\n",
      "Total params: 561\n",
      "Trainable params: 561\n",
      "Non-trainable params: 0\n",
      "_________________________________________________________________\n"
     ]
    }
   ],
   "source": [
    "# Define the model - deep neural net, i.e., the number of input features and hidden nodes for each layer.\n",
    "#  YOUR CODE GOES HERE\n",
    "number_inupt_features = len(X_train[0])\n",
    "hidden_nodes_layer1 = 20\n",
    "hidden_nodes_layer2 = 20\n",
    "nn = tf.keras.models.Sequential()\n",
    "# First hidden layer\n",
    "#  YOUR CODE GOES HERE\n",
    "nn.add(tf.keras.layers.Dense(units=hidden_nodes_layer1,\n",
    "                             input_dim=number_inupt_features, activation='relu'))\n",
    "# Second Layer\n",
    "nn.add(tf.keras.layers.Dense(units=hidden_nodes_layer2,\n",
    "                             input_dim=number_inupt_features, activation='relu'))\n",
    "# Output layer\n",
    "#  YOUR CODE GOES HERE\n",
    "nn.add(tf.keras.layers.Dense(units=1,\n",
    "                            activation='sigmoid'))\n",
    "# Check the structure of the model\n",
    "nn.summary()"
   ]
  },
  {
   "cell_type": "code",
   "execution_count": 16,
   "id": "f2d6a32c",
   "metadata": {},
   "outputs": [],
   "source": [
    "# Compile the model\n",
    "#  YOUR CODE GOES HERE\n",
    "nn.compile(loss=\"binary_crossentropy\", optimizer=\"adam\", metrics=[\"MSE\"])"
   ]
  },
  {
   "cell_type": "code",
   "execution_count": 17,
   "id": "d28278b8",
   "metadata": {},
   "outputs": [
    {
     "name": "stdout",
     "output_type": "stream",
     "text": [
      "Epoch 1/100\n",
      "126/126 [==============================] - 0s 451us/step - loss: -61.2310 - MSE: 7.4120\n",
      "Epoch 2/100\n",
      "126/126 [==============================] - 0s 447us/step - loss: -602.0134 - MSE: 7.3955\n",
      "Epoch 3/100\n",
      "126/126 [==============================] - 0s 463us/step - loss: -2550.5945 - MSE: 7.3955\n",
      "Epoch 4/100\n",
      "126/126 [==============================] - 0s 459us/step - loss: -6842.0356 - MSE: 7.3955\n",
      "Epoch 5/100\n",
      "126/126 [==============================] - 0s 457us/step - loss: -14295.2363 - MSE: 7.3955\n",
      "Epoch 6/100\n",
      "126/126 [==============================] - 0s 463us/step - loss: -25792.5156 - MSE: 7.3955\n",
      "Epoch 7/100\n",
      "126/126 [==============================] - 0s 507us/step - loss: -42318.1016 - MSE: 7.3955\n",
      "Epoch 8/100\n",
      "126/126 [==============================] - 0s 487us/step - loss: -64304.9258 - MSE: 7.3955\n",
      "Epoch 9/100\n",
      "126/126 [==============================] - 0s 535us/step - loss: -92272.6406 - MSE: 7.3955\n",
      "Epoch 10/100\n",
      "126/126 [==============================] - 0s 495us/step - loss: -126640.8359 - MSE: 7.3955\n",
      "Epoch 11/100\n",
      "126/126 [==============================] - 0s 445us/step - loss: -167744.7188 - MSE: 7.3955\n",
      "Epoch 12/100\n",
      "126/126 [==============================] - 0s 481us/step - loss: -215989.5469 - MSE: 7.3955\n",
      "Epoch 13/100\n",
      "126/126 [==============================] - 0s 455us/step - loss: -271685.9375 - MSE: 7.3955\n",
      "Epoch 14/100\n",
      "126/126 [==============================] - 0s 468us/step - loss: -335016.0938 - MSE: 7.3955\n",
      "Epoch 15/100\n",
      "126/126 [==============================] - 0s 495us/step - loss: -406306.2500 - MSE: 7.3955\n",
      "Epoch 16/100\n",
      "126/126 [==============================] - 0s 487us/step - loss: -485625.9062 - MSE: 7.3955\n",
      "Epoch 17/100\n",
      "126/126 [==============================] - 0s 505us/step - loss: -573166.0000 - MSE: 7.3955\n",
      "Epoch 18/100\n",
      "126/126 [==============================] - 0s 478us/step - loss: -669218.6250 - MSE: 7.3955\n",
      "Epoch 19/100\n",
      "126/126 [==============================] - 0s 516us/step - loss: -774215.6250 - MSE: 7.3955\n",
      "Epoch 20/100\n",
      "126/126 [==============================] - 0s 462us/step - loss: -887903.4375 - MSE: 7.3955\n",
      "Epoch 21/100\n",
      "126/126 [==============================] - 0s 496us/step - loss: -1010748.7500 - MSE: 7.3955\n",
      "Epoch 22/100\n",
      "126/126 [==============================] - 0s 479us/step - loss: -1142654.8750 - MSE: 7.3955\n",
      "Epoch 23/100\n",
      "126/126 [==============================] - 0s 483us/step - loss: -1283817.8750 - MSE: 7.3955\n",
      "Epoch 24/100\n",
      "126/126 [==============================] - 0s 491us/step - loss: -1434499.2500 - MSE: 7.3955\n",
      "Epoch 25/100\n",
      "126/126 [==============================] - 0s 531us/step - loss: -1594667.3750 - MSE: 7.3955\n",
      "Epoch 26/100\n",
      "126/126 [==============================] - 0s 486us/step - loss: -1764607.0000 - MSE: 7.3955\n",
      "Epoch 27/100\n",
      "126/126 [==============================] - 0s 481us/step - loss: -1944280.2500 - MSE: 7.3955\n",
      "Epoch 28/100\n",
      "126/126 [==============================] - 0s 471us/step - loss: -2133750.2500 - MSE: 7.3955\n",
      "Epoch 29/100\n",
      "126/126 [==============================] - 0s 481us/step - loss: -2333219.7500 - MSE: 7.3955\n",
      "Epoch 30/100\n",
      "126/126 [==============================] - 0s 479us/step - loss: -2543078.7500 - MSE: 7.3955\n",
      "Epoch 31/100\n",
      "126/126 [==============================] - 0s 447us/step - loss: -2763342.7500 - MSE: 7.3955\n",
      "Epoch 32/100\n",
      "126/126 [==============================] - 0s 455us/step - loss: -2994061.2500 - MSE: 7.3955\n",
      "Epoch 33/100\n",
      "126/126 [==============================] - 0s 479us/step - loss: -3235476.2500 - MSE: 7.3955\n",
      "Epoch 34/100\n",
      "126/126 [==============================] - 0s 460us/step - loss: -3487468.7500 - MSE: 7.3955\n",
      "Epoch 35/100\n",
      "126/126 [==============================] - ETA: 0s - loss: -3736317.7500 - MSE: 7.38 - 0s 460us/step - loss: -3750191.5000 - MSE: 7.3955\n",
      "Epoch 36/100\n",
      "126/126 [==============================] - 0s 439us/step - loss: -4023581.0000 - MSE: 7.3955\n",
      "Epoch 37/100\n",
      "126/126 [==============================] - 0s 453us/step - loss: -4308391.0000 - MSE: 7.3955\n",
      "Epoch 38/100\n",
      "126/126 [==============================] - 0s 463us/step - loss: -4604477.5000 - MSE: 7.3955\n",
      "Epoch 39/100\n",
      "126/126 [==============================] - 0s 463us/step - loss: -4912176.0000 - MSE: 7.3955\n",
      "Epoch 40/100\n",
      "126/126 [==============================] - 0s 463us/step - loss: -5230713.0000 - MSE: 7.3955\n",
      "Epoch 41/100\n",
      "126/126 [==============================] - 0s 479us/step - loss: -5561026.5000 - MSE: 7.3955\n",
      "Epoch 42/100\n",
      "126/126 [==============================] - 0s 511us/step - loss: -5902836.0000 - MSE: 7.3955\n",
      "Epoch 43/100\n",
      "126/126 [==============================] - 0s 510us/step - loss: -6256645.0000 - MSE: 7.3955\n",
      "Epoch 44/100\n",
      "126/126 [==============================] - 0s 463us/step - loss: -6622260.0000 - MSE: 7.3955\n",
      "Epoch 45/100\n",
      "126/126 [==============================] - 0s 511us/step - loss: -7000233.5000 - MSE: 7.3955\n",
      "Epoch 46/100\n",
      "126/126 [==============================] - 0s 471us/step - loss: -7390341.0000 - MSE: 7.3955\n",
      "Epoch 47/100\n",
      "126/126 [==============================] - 0s 455us/step - loss: -7792879.5000 - MSE: 7.3955\n",
      "Epoch 48/100\n",
      "126/126 [==============================] - 0s 447us/step - loss: -8207784.0000 - MSE: 7.3955\n",
      "Epoch 49/100\n",
      "126/126 [==============================] - 0s 463us/step - loss: -8635309.0000 - MSE: 7.3955\n",
      "Epoch 50/100\n",
      "126/126 [==============================] - 0s 460us/step - loss: -9075609.0000 - MSE: 7.3955\n",
      "Epoch 51/100\n",
      "126/126 [==============================] - 0s 471us/step - loss: -9529332.0000 - MSE: 7.3955\n",
      "Epoch 52/100\n",
      "126/126 [==============================] - 0s 447us/step - loss: -9995709.0000 - MSE: 7.3955\n",
      "Epoch 53/100\n",
      "126/126 [==============================] - 0s 485us/step - loss: -10475353.0000 - MSE: 7.3955\n",
      "Epoch 54/100\n",
      "126/126 [==============================] - 0s 480us/step - loss: -10968393.0000 - MSE: 7.3955\n",
      "Epoch 55/100\n",
      "126/126 [==============================] - 0s 479us/step - loss: -11475133.0000 - MSE: 7.3955\n",
      "Epoch 56/100\n",
      "126/126 [==============================] - 0s 476us/step - loss: -11994966.0000 - MSE: 7.3955\n",
      "Epoch 57/100\n",
      "126/126 [==============================] - 0s 455us/step - loss: -12528569.0000 - MSE: 7.3955\n",
      "Epoch 58/100\n",
      "126/126 [==============================] - 0s 466us/step - loss: -13076419.0000 - MSE: 7.3955\n",
      "Epoch 59/100\n",
      "126/126 [==============================] - 0s 463us/step - loss: -13638230.0000 - MSE: 7.3955\n",
      "Epoch 60/100\n",
      "126/126 [==============================] - 0s 499us/step - loss: -14213765.0000 - MSE: 7.3955\n",
      "Epoch 61/100\n",
      "126/126 [==============================] - 0s 487us/step - loss: -14804190.0000 - MSE: 7.3955\n",
      "Epoch 62/100\n",
      "126/126 [==============================] - 0s 503us/step - loss: -15408594.0000 - MSE: 7.3955\n",
      "Epoch 63/100\n",
      "126/126 [==============================] - 0s 495us/step - loss: -16026840.0000 - MSE: 7.3955\n",
      "Epoch 64/100\n",
      "126/126 [==============================] - 0s 523us/step - loss: -16659925.0000 - MSE: 7.3955\n",
      "Epoch 65/100\n",
      "126/126 [==============================] - 0s 503us/step - loss: -17308254.0000 - MSE: 7.3955\n",
      "Epoch 66/100\n",
      "126/126 [==============================] - 0s 503us/step - loss: -17972314.0000 - MSE: 7.3955\n",
      "Epoch 67/100\n",
      "126/126 [==============================] - 0s 515us/step - loss: -18651364.0000 - MSE: 7.3955\n",
      "Epoch 68/100\n",
      "126/126 [==============================] - 0s 462us/step - loss: -19345278.0000 - MSE: 7.3955\n",
      "Epoch 69/100\n",
      "126/126 [==============================] - 0s 455us/step - loss: -20054696.0000 - MSE: 7.3955\n",
      "Epoch 70/100\n",
      "126/126 [==============================] - 0s 458us/step - loss: -20779392.0000 - MSE: 7.3955\n",
      "Epoch 71/100\n",
      "126/126 [==============================] - 0s 449us/step - loss: -21518952.0000 - MSE: 7.3955\n",
      "Epoch 72/100\n",
      "126/126 [==============================] - 0s 447us/step - loss: -22274672.0000 - MSE: 7.3955\n",
      "Epoch 73/100\n",
      "126/126 [==============================] - 0s 455us/step - loss: -23046476.0000 - MSE: 7.3955\n",
      "Epoch 74/100\n",
      "126/126 [==============================] - 0s 455us/step - loss: -23834340.0000 - MSE: 7.3955\n",
      "Epoch 75/100\n",
      "126/126 [==============================] - 0s 497us/step - loss: -24639048.0000 - MSE: 7.3955\n",
      "Epoch 76/100\n",
      "126/126 [==============================] - 0s 447us/step - loss: -25459702.0000 - MSE: 7.3955\n",
      "Epoch 77/100\n",
      "126/126 [==============================] - 0s 471us/step - loss: -26296814.0000 - MSE: 7.3955\n",
      "Epoch 78/100\n"
     ]
    },
    {
     "name": "stdout",
     "output_type": "stream",
     "text": [
      "126/126 [==============================] - 0s 431us/step - loss: -27149766.0000 - MSE: 7.3955\n",
      "Epoch 79/100\n",
      "126/126 [==============================] - 0s 455us/step - loss: -28019304.0000 - MSE: 7.3955\n",
      "Epoch 80/100\n",
      "126/126 [==============================] - 0s 447us/step - loss: -28906342.0000 - MSE: 7.3955\n",
      "Epoch 81/100\n",
      "126/126 [==============================] - 0s 463us/step - loss: -29810022.0000 - MSE: 7.3955\n",
      "Epoch 82/100\n",
      "126/126 [==============================] - 0s 463us/step - loss: -30731648.0000 - MSE: 7.3955\n",
      "Epoch 83/100\n",
      "126/126 [==============================] - 0s 487us/step - loss: -31670722.0000 - MSE: 7.3955\n",
      "Epoch 84/100\n",
      "126/126 [==============================] - 0s 495us/step - loss: -32626496.0000 - MSE: 7.3955\n",
      "Epoch 85/100\n",
      "126/126 [==============================] - 0s 503us/step - loss: -33600384.0000 - MSE: 7.3955\n",
      "Epoch 86/100\n",
      "126/126 [==============================] - 0s 524us/step - loss: -34591572.0000 - MSE: 7.3955\n",
      "Epoch 87/100\n",
      "126/126 [==============================] - 0s 473us/step - loss: -35601436.0000 - MSE: 7.3955\n",
      "Epoch 88/100\n",
      "126/126 [==============================] - 0s 463us/step - loss: -36628284.0000 - MSE: 7.3955\n",
      "Epoch 89/100\n",
      "126/126 [==============================] - 0s 471us/step - loss: -37672696.0000 - MSE: 7.3955\n",
      "Epoch 90/100\n",
      "126/126 [==============================] - 0s 548us/step - loss: -38735748.0000 - MSE: 7.3955\n",
      "Epoch 91/100\n",
      "126/126 [==============================] - 0s 511us/step - loss: -39816800.0000 - MSE: 7.3955\n",
      "Epoch 92/100\n",
      "126/126 [==============================] - 0s 455us/step - loss: -40917420.0000 - MSE: 7.3955\n",
      "Epoch 93/100\n",
      "126/126 [==============================] - 0s 455us/step - loss: -42036216.0000 - MSE: 7.3955\n",
      "Epoch 94/100\n",
      "126/126 [==============================] - 0s 471us/step - loss: -43173132.0000 - MSE: 7.3955\n",
      "Epoch 95/100\n",
      "126/126 [==============================] - 0s 439us/step - loss: -44329748.0000 - MSE: 7.3955\n",
      "Epoch 96/100\n",
      "126/126 [==============================] - 0s 522us/step - loss: -45506156.0000 - MSE: 7.3955\n",
      "Epoch 97/100\n",
      "126/126 [==============================] - 0s 491us/step - loss: -46700920.0000 - MSE: 7.3955\n",
      "Epoch 98/100\n",
      "126/126 [==============================] - 0s 462us/step - loss: -47915044.0000 - MSE: 7.3955\n",
      "Epoch 99/100\n",
      "126/126 [==============================] - 0s 455us/step - loss: -49148976.0000 - MSE: 7.3955\n",
      "Epoch 100/100\n",
      "126/126 [==============================] - 0s 447us/step - loss: -50400064.0000 - MSE: 7.3955\n"
     ]
    }
   ],
   "source": [
    "# Train the model\n",
    "#  YOUR CODE GOES HERE\n",
    "fit_model = nn.fit(X_train,y_train,epochs=100)"
   ]
  },
  {
   "cell_type": "code",
   "execution_count": null,
   "id": "7fc63671",
   "metadata": {},
   "outputs": [],
   "source": []
  }
 ],
 "metadata": {
  "kernelspec": {
   "display_name": "Python 3",
   "language": "python",
   "name": "python3"
  },
  "language_info": {
   "codemirror_mode": {
    "name": "ipython",
    "version": 3
   },
   "file_extension": ".py",
   "mimetype": "text/x-python",
   "name": "python",
   "nbconvert_exporter": "python",
   "pygments_lexer": "ipython3",
   "version": "3.7.10"
  }
 },
 "nbformat": 4,
 "nbformat_minor": 5
}
