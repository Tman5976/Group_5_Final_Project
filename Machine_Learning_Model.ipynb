{
 "cells": [
  {
   "cell_type": "code",
   "execution_count": 1,
   "id": "e45f6a69",
   "metadata": {},
   "outputs": [],
   "source": [
    "# Import Dependencies\n",
    "import numpy as np\n",
    "import pandas as pd\n",
    "from pathlib import Path\n",
    "from collections import Counter\n",
    "from sklearn.linear_model import LinearRegression\n",
    "from sklearn.model_selection import train_test_split\n",
    "import matplotlib.pyplot as plt"
   ]
  },
  {
   "cell_type": "code",
   "execution_count": 2,
   "id": "1802efc7",
   "metadata": {},
   "outputs": [
    {
     "data": {
      "text/html": [
       "<div>\n",
       "<style scoped>\n",
       "    .dataframe tbody tr th:only-of-type {\n",
       "        vertical-align: middle;\n",
       "    }\n",
       "\n",
       "    .dataframe tbody tr th {\n",
       "        vertical-align: top;\n",
       "    }\n",
       "\n",
       "    .dataframe thead th {\n",
       "        text-align: right;\n",
       "    }\n",
       "</style>\n",
       "<table border=\"1\" class=\"dataframe\">\n",
       "  <thead>\n",
       "    <tr style=\"text-align: right;\">\n",
       "      <th></th>\n",
       "      <th>review_overall</th>\n",
       "      <th>review_aroma</th>\n",
       "      <th>review_appearance</th>\n",
       "      <th>review_palate</th>\n",
       "      <th>review_taste</th>\n",
       "      <th>beer_style</th>\n",
       "      <th>beer_abv</th>\n",
       "    </tr>\n",
       "  </thead>\n",
       "  <tbody>\n",
       "    <tr>\n",
       "      <th>0</th>\n",
       "      <td>4.0</td>\n",
       "      <td>4.0</td>\n",
       "      <td>3.5</td>\n",
       "      <td>4.0</td>\n",
       "      <td>4.0</td>\n",
       "      <td>Rauchbier</td>\n",
       "      <td>7.4</td>\n",
       "    </tr>\n",
       "    <tr>\n",
       "      <th>1</th>\n",
       "      <td>3.5</td>\n",
       "      <td>3.5</td>\n",
       "      <td>3.5</td>\n",
       "      <td>3.5</td>\n",
       "      <td>3.5</td>\n",
       "      <td>American IPA</td>\n",
       "      <td>6.1</td>\n",
       "    </tr>\n",
       "    <tr>\n",
       "      <th>2</th>\n",
       "      <td>1.0</td>\n",
       "      <td>3.0</td>\n",
       "      <td>3.0</td>\n",
       "      <td>1.5</td>\n",
       "      <td>1.5</td>\n",
       "      <td>Euro Pale Lager</td>\n",
       "      <td>5.0</td>\n",
       "    </tr>\n",
       "    <tr>\n",
       "      <th>3</th>\n",
       "      <td>2.5</td>\n",
       "      <td>3.0</td>\n",
       "      <td>4.0</td>\n",
       "      <td>4.0</td>\n",
       "      <td>3.5</td>\n",
       "      <td>Witbier</td>\n",
       "      <td>4.8</td>\n",
       "    </tr>\n",
       "    <tr>\n",
       "      <th>4</th>\n",
       "      <td>3.5</td>\n",
       "      <td>4.0</td>\n",
       "      <td>4.0</td>\n",
       "      <td>3.5</td>\n",
       "      <td>3.5</td>\n",
       "      <td>American Porter</td>\n",
       "      <td>6.0</td>\n",
       "    </tr>\n",
       "  </tbody>\n",
       "</table>\n",
       "</div>"
      ],
      "text/plain": [
       "   review_overall  review_aroma  review_appearance  review_palate  \\\n",
       "0             4.0           4.0                3.5            4.0   \n",
       "1             3.5           3.5                3.5            3.5   \n",
       "2             1.0           3.0                3.0            1.5   \n",
       "3             2.5           3.0                4.0            4.0   \n",
       "4             3.5           4.0                4.0            3.5   \n",
       "\n",
       "   review_taste       beer_style  beer_abv  \n",
       "0           4.0        Rauchbier       7.4  \n",
       "1           3.5     American IPA       6.1  \n",
       "2           1.5  Euro Pale Lager       5.0  \n",
       "3           3.5          Witbier       4.8  \n",
       "4           3.5  American Porter       6.0  "
      ]
     },
     "execution_count": 2,
     "metadata": {},
     "output_type": "execute_result"
    }
   ],
   "source": [
    "# Load the data from database\n",
    "file_path = './Resources/clean_beer.csv'\n",
    "beer_df = pd.read_csv(file_path)\n",
    "beer_df.head()"
   ]
  },
  {
   "cell_type": "code",
   "execution_count": null,
   "id": "f0edd908",
   "metadata": {},
   "outputs": [],
   "source": [
    "# Create features\n",
    "X = beer_df.drop(['review_overall'], axis = 1).values\n",
    "# Create target\n",
    "y = beer_df['review_overall'].values"
   ]
  },
  {
   "cell_type": "code",
   "execution_count": null,
   "id": "ec1c4fa0",
   "metadata": {},
   "outputs": [],
   "source": [
    "X"
   ]
  },
  {
   "cell_type": "code",
   "execution_count": null,
   "id": "ec57caa6",
   "metadata": {},
   "outputs": [],
   "source": [
    "y"
   ]
  },
  {
   "cell_type": "code",
   "execution_count": null,
   "id": "cedf64d1",
   "metadata": {},
   "outputs": [],
   "source": [
    "# Split the Data into Training and Testing\n",
    "X_train, X_test, y_train, y_test = train_test_split(X, y, random_state = 5)"
   ]
  },
  {
   "cell_type": "code",
   "execution_count": null,
   "id": "3b2fcbad",
   "metadata": {},
   "outputs": [],
   "source": [
    "# Train the model\n",
    "# Multiple linear regression\n",
    "ml=LinearRegression()\n",
    "ml.fit(X_train, y_train)\n",
    "Training_score = ml.score(X_train, y_train)\n",
    "Testing_score = ml.score(X_test, y_test)\n",
    "print(f'Training score : {Training_score}')\n",
    "print(f'Testing score : {Testing_score}')"
   ]
  },
  {
   "cell_type": "code",
   "execution_count": null,
   "id": "91668313",
   "metadata": {},
   "outputs": [],
   "source": [
    "y_pred = ml.predict(X_test)"
   ]
  },
  {
   "cell_type": "code",
   "execution_count": null,
   "id": "7a62f87a",
   "metadata": {},
   "outputs": [],
   "source": [
    "df = pd.DataFrame({'Predicted' : y_pred, 'Actual' : y_test})\n",
    "df.head(20)"
   ]
  },
  {
   "cell_type": "code",
   "execution_count": null,
   "id": "a35f0d14",
   "metadata": {},
   "outputs": [],
   "source": [
    "# Evaluate the model"
   ]
  },
  {
   "cell_type": "code",
   "execution_count": null,
   "id": "8305082e",
   "metadata": {},
   "outputs": [],
   "source": [
    "plt.scatter(y_pred, y_pred - y_test)\n",
    "plt.hlines(y=0, xmin=y_pred.min(), xmax=y_pred.max())\n",
    "plt.show()"
   ]
  },
  {
   "cell_type": "code",
   "execution_count": null,
   "id": "7ec6490c",
   "metadata": {},
   "outputs": [],
   "source": [
    "beer_df.head(20)"
   ]
  },
  {
   "cell_type": "code",
   "execution_count": null,
   "id": "298716d1",
   "metadata": {},
   "outputs": [],
   "source": [
    "print(ml.coef_)"
   ]
  },
  {
   "cell_type": "code",
   "execution_count": null,
   "id": "905fb97f",
   "metadata": {},
   "outputs": [],
   "source": [
    "beer_df2 = beer_df[['review_overall', 'review_palate', 'review_taste']]\n",
    "beer_df2.head()"
   ]
  },
  {
   "cell_type": "code",
   "execution_count": null,
   "id": "da269e24",
   "metadata": {},
   "outputs": [],
   "source": [
    "# # Create features\n",
    "# X = beer_df2.drop(['review_overall'], axis = 1).values\n",
    "# # Create target\n",
    "# y = beer_df2['review_overall'].values"
   ]
  },
  {
   "cell_type": "code",
   "execution_count": null,
   "id": "b7930988",
   "metadata": {},
   "outputs": [],
   "source": [
    "# X_train, X_test, y_train, y_test = train_test_split(X, y, random_state = 5)"
   ]
  },
  {
   "cell_type": "code",
   "execution_count": null,
   "id": "1d3e7bf0",
   "metadata": {},
   "outputs": [],
   "source": [
    "# # Train the model\n",
    "# # Multiple linear regression\n",
    "# ml2=LinearRegression()\n",
    "# ml2.fit(X_train, y_train)\n",
    "# Training_score = ml2.score(X_train, y_train)\n",
    "# Testing_score = ml2.score(X_test, y_test)\n",
    "# print(f'Training score : {Training_score}')\n",
    "# print(f'Testing score : {Testing_score}')"
   ]
  },
  {
   "cell_type": "code",
   "execution_count": null,
   "id": "3c267406",
   "metadata": {},
   "outputs": [],
   "source": [
    "# y_pred = ml2.predict(X_test)"
   ]
  },
  {
   "cell_type": "code",
   "execution_count": null,
   "id": "e4f82f52",
   "metadata": {},
   "outputs": [],
   "source": [
    "# plt.scatter(y_pred, y_pred - y_test)\n",
    "# plt.hlines(y=0, xmin=y_pred.min(), xmax=y_pred.max())\n",
    "# plt.show()"
   ]
  },
  {
   "cell_type": "code",
   "execution_count": null,
   "id": "c91faff1",
   "metadata": {},
   "outputs": [],
   "source": [
    "# print(ml2.coef_)"
   ]
  },
  {
   "cell_type": "code",
   "execution_count": 3,
   "id": "0b455095",
   "metadata": {},
   "outputs": [],
   "source": [
    "import tensorflow as tf\n",
    "from sklearn.preprocessing import StandardScaler"
   ]
  },
  {
   "cell_type": "code",
   "execution_count": null,
   "id": "cc70160a",
   "metadata": {},
   "outputs": [],
   "source": [
    "# Create a StandardScaler instances\n",
    "scaler = StandardScaler()\n",
    "\n",
    "# Fit the StandardScaler\n",
    "X_scaler = scaler.fit(X_train)\n",
    "\n",
    "# Scale the data\n",
    "X_train_scaled = X_scaler.transform(X_train)\n",
    "X_test_scaled = X_scaler.transform(X_test)"
   ]
  },
  {
   "cell_type": "code",
   "execution_count": null,
   "id": "ea165771",
   "metadata": {},
   "outputs": [],
   "source": [
    "# Define the model - deep neural net, i.e., the number of input features and hidden nodes for each layer.\n",
    "#  YOUR CODE GOES HERE\n",
    "number_inupt_features = len(X_train[0])\n",
    "hidden_nodes_layer1 = 8\n",
    "hidden_nodes_layer2 = 8\n",
    "nn = tf.keras.models.Sequential()\n",
    "# First hidden layer\n",
    "#  YOUR CODE GOES HERE\n",
    "nn.add(tf.keras.layers.Dense(units=hidden_nodes_layer1,\n",
    "                             input_dim=number_inupt_features, activation='relu'))\n",
    "# Second Layer\n",
    "nn.add(tf.keras.layers.Dense(units=hidden_nodes_layer2,\n",
    "                             input_dim=number_inupt_features, activation='relu'))\n",
    "# Output layer\n",
    "#  YOUR CODE GOES HERE\n",
    "nn.add(tf.keras.layers.Dense(units=1,\n",
    "                            activation='sigmoid'))\n",
    "# Check the structure of the model\n",
    "nn.summary()"
   ]
  },
  {
   "cell_type": "code",
   "execution_count": null,
   "id": "f2d6a32c",
   "metadata": {},
   "outputs": [],
   "source": [
    "# Compile the model\n",
    "#  YOUR CODE GOES HERE\n",
    "nn.compile(loss=\"binary_crossentropy\", optimizer=\"adam\", metrics=[\"MSE\"])"
   ]
  },
  {
   "cell_type": "code",
   "execution_count": null,
   "id": "d28278b8",
   "metadata": {},
   "outputs": [],
   "source": [
    "# Train the model\n",
    "#  YOUR CODE GOES HERE\n",
    "fit_model = nn.fit(X_train,y_train,epochs=100)"
   ]
  },
  {
   "cell_type": "code",
   "execution_count": null,
   "id": "85c07d72",
   "metadata": {},
   "outputs": [],
   "source": []
  }
 ],
 "metadata": {
  "kernelspec": {
   "display_name": "Python 3",
   "language": "python",
   "name": "python3"
  },
  "language_info": {
   "codemirror_mode": {
    "name": "ipython",
    "version": 3
   },
   "file_extension": ".py",
   "mimetype": "text/x-python",
   "name": "python",
   "nbconvert_exporter": "python",
   "pygments_lexer": "ipython3",
   "version": "3.7.10"
  }
 },
 "nbformat": 4,
 "nbformat_minor": 5
}
